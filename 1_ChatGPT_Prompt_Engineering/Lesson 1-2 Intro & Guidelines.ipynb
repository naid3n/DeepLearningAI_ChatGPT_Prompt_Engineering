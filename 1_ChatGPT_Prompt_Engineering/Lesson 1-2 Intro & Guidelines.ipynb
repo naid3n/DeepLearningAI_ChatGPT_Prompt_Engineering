{
 "cells": [
  {
   "cell_type": "markdown",
   "metadata": {},
   "source": [
    "### Course's Scope\n",
    "- Understand the power of API calls to LLM for building software applications\n",
    "- Best practices for prompting: 2 principles and 6 tactics\n",
    "- Use cases: summarize, infer, transform, expand\n",
    "- Buil a chatbot"
   ]
  },
  {
   "cell_type": "markdown",
   "metadata": {},
   "source": [
    "### Two types of LLMs\n",
    "1. Base LLM: predicts next word, based on text training data (e.g., you give a question, and the model returns a list of similar questions).\n",
    "2. Instruction-tuned LLM: follow instructions (e.g., you give a question, the model gives the answer). \n",
    "    - RLHF: Reinforcement learning with human feedback. \n",
    "    - Trained to be helpful, honest, and harmless. \n",
    "    - Recommended. "
   ]
  },
  {
   "cell_type": "markdown",
   "metadata": {},
   "source": [
    "### Two Principles\n",
    "1. Write clear and specific instructions\n",
    "2. Give the model time to think\n"
   ]
  },
  {
   "cell_type": "code",
   "execution_count": 1,
   "metadata": {},
   "outputs": [],
   "source": [
    "#pip install --upgrade pip\n",
    "#!pip install openai\n",
    "#!pip install --upgrade openai"
   ]
  },
  {
   "cell_type": "code",
   "execution_count": 4,
   "metadata": {},
   "outputs": [],
   "source": [
    "#!pip install python-dotenv\n",
    "#Save API key in the .env `OPENAI_API_KEY` (OPENAI_API_KEY=`your API key`)"
   ]
  },
  {
   "cell_type": "code",
   "execution_count": 4,
   "metadata": {},
   "outputs": [],
   "source": [
    "#set up API key (need to have credits in your Open AI account)\n",
    "# Check https://github.com/openai/openai-python/discussions/742\n",
    "\n",
    "from openai import OpenAI\n",
    "from dotenv import load_dotenv\n",
    "import os\n",
    "\n",
    "load_dotenv()\n",
    "\n",
    "client = OpenAI(api_key = os.getenv(\"OPEN_API_KEY\"))\n"
   ]
  },
  {
   "cell_type": "code",
   "execution_count": 2,
   "metadata": {},
   "outputs": [],
   "source": [
    "#Get output. Check https://github.com/openai/openai-python for updates\n",
    "\n",
    "def get_completion(prompt, model = \"gpt-3.5-turbo\"):\n",
    "    \n",
    "    messages = [{\"role\": \"user\", \"content\": prompt}]\n",
    "\n",
    "    response = client.chat.completions.create(\n",
    "    model = model,\n",
    "    messages = messages,\n",
    "    temperature = 0.5, \n",
    "    )\n",
    "    return response.choices[0].message.content"
   ]
  },
  {
   "cell_type": "markdown",
   "metadata": {},
   "source": [
    "#### Principle 1 - Tactic 1\n",
    "* Use delimiters to clearly indicate parts of the input. Examples: \"\"\", ```, ---, < >, XML tags.\n",
    "* This tactic can help prevent prompt injection. "
   ]
  },
  {
   "cell_type": "code",
   "execution_count": 18,
   "id": "1005252f",
   "metadata": {},
   "outputs": [
    {
     "name": "stdout",
     "output_type": "stream",
     "text": [
      "To guide a model towards the desired output and reduce irrelevant or incorrect responses, clear and specific instructions should be provided, which may require longer prompts for more clarity and context.\n"
     ]
    }
   ],
   "source": [
    "# achieve: summarize this paragraph\n",
    "text = f\"\"\"\n",
    "You should express what you want a model to do by \\ \n",
    "providing instructions that are as clear and \\ \n",
    "specific as you can possibly make them. \\ \n",
    "This will guide the model towards the desired output, \\ \n",
    "and reduce the chances of receiving irrelevant \\ \n",
    "or incorrect responses. Don't confuse writing a \\ \n",
    "clear prompt with writing a short prompt. \\ \n",
    "In many cases, longer prompts provide more clarity \\ \n",
    "and context for the model, which can lead to \\ \n",
    "more detailed and relevant outputs.\n",
    "\"\"\"\n",
    "prompt = f\"\"\"\n",
    "Summarize the text delimited by triple backticks \\ \n",
    "into a short, single sentence.\n",
    "```{text}```\n",
    "\"\"\"\n",
    "response = get_completion(prompt)\n",
    "print(response)"
   ]
  },
  {
   "cell_type": "markdown",
   "metadata": {},
   "source": [
    "#### Principle 1 - Tactic 2\n",
    "* Ask for a structured output, e.g., HTML, JSON"
   ]
  },
  {
   "cell_type": "code",
   "execution_count": 7,
   "id": "0fe788dc",
   "metadata": {},
   "outputs": [
    {
     "name": "stdout",
     "output_type": "stream",
     "text": [
      "{\n",
      "  \"songs\": [\n",
      "    {\n",
      "      \"song_id\": 1,\n",
      "      \"song_name\": \"Midnight Whispers\",\n",
      "      \"singer\": \"Luna Silver\",\n",
      "      \"genre\": \"Indie Pop\"\n",
      "    },\n",
      "    {\n",
      "      \"song_id\": 2,\n",
      "      \"song_name\": \"Fading Memories\",\n",
      "      \"singer\": \"Eclipse Dreams\",\n",
      "      \"genre\": \"Electronic\"\n",
      "    },\n",
      "    {\n",
      "      \"song_id\": 3,\n",
      "      \"song_name\": \"Lost in the Stars\",\n",
      "      \"singer\": \"Aurora Sky\",\n",
      "      \"genre\": \"Alternative Rock\"\n",
      "    },\n",
      "    {\n",
      "      \"song_id\": 4,\n",
      "      \"song_name\": \"Dreamscape Symphony\",\n",
      "      \"singer\": \"Nova Harmonies\",\n",
      "      \"genre\": \"Orchestral\"\n",
      "    },\n",
      "    {\n",
      "      \"song_id\": 5,\n",
      "      \"song_name\": \"Neon Nights\",\n",
      "      \"singer\": \"Stellar Beats\",\n",
      "      \"genre\": \"Synthwave\"\n",
      "    }\n",
      "  ]\n",
      "}\n"
     ]
    }
   ],
   "source": [
    "prompt = f\"\"\"\n",
    "Generate a list of five made-up song titles along \\ \n",
    "with their singer and genres. \n",
    "Provide them in JSON format with the following keys: \n",
    "song_id, song_name, singer, genre.\n",
    "\"\"\"\n",
    "response = get_completion(prompt)\n",
    "print(response)"
   ]
  },
  {
   "cell_type": "markdown",
   "metadata": {},
   "source": [
    "#### Principle 1 - Tactic 3\n",
    "* Check whether conditions are satisfied (if... then...else...)."
   ]
  },
  {
   "cell_type": "code",
   "execution_count": 8,
   "id": "1d293c6d",
   "metadata": {},
   "outputs": [
    {
     "name": "stdout",
     "output_type": "stream",
     "text": [
      "Completion for Recipe 1:\n",
      "Step 1 - Mix the eggs, yogurt, feta cheese in large bowl until creamy. Add the water, baking soda, and a couple tablespoons of avocado oil. Mix well and set aside.\n",
      "Step 2 - Grab the biggest baking pan you have, ideally round. You may have to use two 9×16 baking dishes if you don't have a large round one. Spoon a bit of mixture on the bottom of the baking dish and spread it thin from edge to edge.\n",
      "Step 3 - Grab one layer of phyllo dough and gently bundle it together like a ball and fill the bottom of the baking dish with a bunch of these balls. Spoon enough egg mixture over to make it wet and repeat with another layer of phyllo balls covered in egg mixture.\n",
      "Step 4 - Top with 3 sheets of phyllo, each one covered with egg mixture then add some slices of butter all over the top. Allow the banitsa to rest for 15 minutes and preheat the oven to 420F.\n",
      "Step 5 - Bake for 25-30 minutes, or until the banitsa is deep golden brown. If it gets too much color while baking, cover with tin foil or parchment paper.\n",
      "Step 6 - When the banitsa comes out of the oven, flip it over and allow it to rest upside down for 20 minutes before eating. You will need to rest the pan on two bowls or something so the pan can hang and the banitsa doesn't get smashed. Enjoy!\n"
     ]
    }
   ],
   "source": [
    "text_1 = f\"\"\"\n",
    "To start, mix the eggs, yogurt, feta cheese in large bowl until creamy. Add the water, baking soda, and a couple tablespoons of avocado oil. Mix well and and set aside.\n",
    "Grab the biggest baking pan you have, ideally round. You may have to use two 9×16 baking dishes if you don;t have a large round one. Spoon a bit of mixture on the bottom of the baking dish and spread it thin from edge to edge.\n",
    "Grab one layer of phyllo dough and gently bundle it together like a ball and fill the bottom of the baking dish with a bunch of these balls. Spoon enough egg mixture over to make it wet and repeat with another layer of phyllo balls covered in egg mixture.\n",
    "Top with 3 sheets of phyllo, each one covered with egg mixture then add some slices of butter all over the top. Allow the banitsa to rest for 15 minutes and preheat the oven to 420F.\n",
    "Bake for 25-30 minutes, or until the banitsa is deep golden brown. If it gets too much color while baking, cover with tin foil or parchment paper.\n",
    "When the banitsa comes out of the oven, flip it over and allow it to rest upside down for 20 minutes before eating. You will need to rest the pan on two bowls or something so the pan can hang and the banitsa doesn’t get smashed. Enjoy!\n",
    "\"\"\"\n",
    "\n",
    "prompt_1 = f\"\"\"\n",
    "You will be provided with text delimited by triple quotes. \n",
    "If it contains a sequence of instructions, \n",
    "re-write those instructions in the following format:\n",
    "\n",
    "Step 1 - ...\n",
    "Step 2 - ...\n",
    "...\n",
    "Step N - ...\n",
    "\n",
    "If the text does not contain a sequence of instructions, \n",
    "then simply write \\\"No steps provided.\\\"\n",
    "\\\"\\\"\\\"{text_1}\\\"\\\"\\\"\n",
    "\"\"\"\n",
    "\n",
    "response = get_completion(prompt_1)\n",
    "print(\"Completion for Recipe 1:\")\n",
    "print(response)"
   ]
  },
  {
   "cell_type": "markdown",
   "metadata": {},
   "source": [
    "#### Principle 1 - Tactic 4\n",
    "* Few-shot prompting: Give successful example tasks before asking the model to perform a task"
   ]
  },
  {
   "cell_type": "code",
   "execution_count": 5,
   "metadata": {},
   "outputs": [
    {
     "name": "stdout",
     "output_type": "stream",
     "text": [
      "<grandparent>: Resilience is like a mighty oak tree standing tall through storms and adversity. It is the unwavering determination to bounce back from setbacks, to rise above challenges, and to grow stronger with each trial. Just as the oak tree bends but never breaks, resilience allows us to persevere and thrive in the face of adversity.\n"
     ]
    }
   ],
   "source": [
    "prompt = f\"\"\"\n",
    "Your task is to answer in a consistent style.\n",
    "\n",
    "<child>: Teach me about patience.\n",
    "\n",
    "<grandparent>: The river that carves the deepest \\ \n",
    "valley flows from a modest spring; the \\ \n",
    "grandest symphony originates from a single note; \\ \n",
    "the most intricate tapestry begins with a solitary thread.\n",
    "\n",
    "<child>: Teach me about resilience.\n",
    "\"\"\"\n",
    "response = get_completion(prompt)\n",
    "print(response)"
   ]
  },
  {
   "cell_type": "markdown",
   "metadata": {},
   "source": [
    "#### Principle 2 - Tactic 1\n",
    "* Specify the steps to complete a task. Recommend to ask for output in a specified format."
   ]
  },
  {
   "cell_type": "code",
   "execution_count": 8,
   "metadata": {},
   "outputs": [
    {
     "name": "stdout",
     "output_type": "stream",
     "text": [
      "\n",
      "Completion for prompt 2:\n",
      "Summary: Jack and Jill, siblings, embark on a quest to fetch water from a hilltop well, but encounter misfortune along the way. \n",
      "Translation: Jack et Jill, frère et sœur, se lancent dans une quête pour chercher de l'eau d'un puits au sommet d'une colline, mais rencontrent des malheurs en chemin.\n",
      "Names: Jack, Jill\n",
      "Output JSON: {\"french_summary\": \"Jack et Jill, frère et sœur, se lancent dans une quête pour chercher de l'eau d'un puits au sommet d'une colline, mais rencontrent des malheurs en chemin.\", \"num_names\": 2}\n"
     ]
    }
   ],
   "source": [
    "text = f\"\"\"\n",
    "In a charming village, siblings Jack and Jill set out on \\ \n",
    "a quest to fetch water from a hilltop \\ \n",
    "well. As they climbed, singing joyfully, misfortune \\ \n",
    "struck—Jack tripped on a stone and tumbled \\ \n",
    "down the hill, with Jill following suit. \\ \n",
    "Though slightly battered, the pair returned home to \\ \n",
    "comforting embraces. Despite the mishap, \\ \n",
    "their adventurous spirits remained undimmed, and they \\ \n",
    "continued exploring with delight.\n",
    "\"\"\"\n",
    "\n",
    "# example 2 - structured\n",
    "\n",
    "prompt_2 = f\"\"\"\n",
    "Your task is to perform the following actions: \n",
    "1 - Summarize the following text delimited by \n",
    "  <> with 1 sentence.\n",
    "2 - Translate the summary into French.\n",
    "3 - List each name in the French summary.\n",
    "4 - Output a json object that contains the \n",
    "  following keys: french_summary, num_names.\n",
    "\n",
    "Use the following format:\n",
    "Text: <text to summarize>\n",
    "Summary: <summary>\n",
    "Translation: <summary translation>\n",
    "Names: <list of names in Italian summary>\n",
    "Output JSON: <json with summary and num_names>\n",
    "\n",
    "Text: <{text}>\n",
    "\"\"\"\n",
    "response = get_completion(prompt_2)\n",
    "print(\"\\nCompletion for prompt 2:\")\n",
    "print(response)"
   ]
  },
  {
   "cell_type": "markdown",
   "metadata": {},
   "source": [
    "#### Principle 2 - Tactic 2\n",
    "* Teach the model to work out its own solution before rushing to a conclusion."
   ]
  },
  {
   "cell_type": "code",
   "execution_count": 9,
   "metadata": {},
   "outputs": [
    {
     "name": "stdout",
     "output_type": "stream",
     "text": [
      "The student's solution is correct. They correctly identified the costs for land, solar panels, and maintenance, and calculated the total cost by adding them together.\n"
     ]
    }
   ],
   "source": [
    "prompt = f\"\"\"\n",
    "Determine if the student's solution is correct or not.\n",
    "\n",
    "Question:\n",
    "I'm building a solar power installation and I need \\\n",
    " help working out the financials. \n",
    "- Land costs $100 / square foot\n",
    "- I can buy solar panels for $250 / square foot\n",
    "- I negotiated a contract for maintenance that will cost \\ \n",
    "me a flat $100k per year, and an additional $10 / square \\\n",
    "foot\n",
    "What is the total cost for the first year of operations \n",
    "as a function of the number of square feet.\n",
    "\n",
    "Student's Solution:\n",
    "Let x be the size of the installation in square feet.\n",
    "Costs:\n",
    "1. Land cost: 100x\n",
    "2. Solar panel cost: 250x\n",
    "3. Maintenance cost: 100,000 + 100x\n",
    "Total cost: 100x + 250x + 100,000 + 100x = 450x + 100,000\n",
    "\"\"\"\n",
    "response = get_completion(prompt)\n",
    "print(response)"
   ]
  },
  {
   "cell_type": "code",
   "execution_count": 10,
   "metadata": {},
   "outputs": [
    {
     "name": "stdout",
     "output_type": "stream",
     "text": [
      "To calculate the total cost for the first year of operations, we need to consider the costs of land, solar panels, and maintenance.\n",
      "\n",
      "1. Land cost: $100 / square foot\n",
      "The cost of land is calculated by multiplying the size of the installation (in square feet) by the cost per square foot.\n",
      "Land cost = $100 * x (where x is the size of the installation in square feet)\n",
      "\n",
      "2. Solar panel cost: $250 / square foot\n",
      "The cost of solar panels is calculated by multiplying the size of the installation (in square feet) by the cost per square foot.\n",
      "Solar panel cost = $250 * x (where x is the size of the installation in square feet)\n",
      "\n",
      "3. Maintenance cost: $100,000 + $10 / square foot\n",
      "The maintenance cost is a flat fee of $100,000 per year, plus an additional cost per square foot.\n",
      "Maintenance cost = $100,000 + $10 * x (where x is the size of the installation in square feet)\n",
      "\n",
      "Total cost for the first year of operations = Land cost + Solar panel cost + Maintenance cost\n",
      "Total cost = ($100 * x) + ($250 * x) + ($100,000 + $10 * x)\n",
      "Total cost = $450 * x + $100,000\n",
      "\n",
      "Is the student's solution the same as the actual solution just calculated:\n",
      "Yes\n",
      "\n",
      "Student grade:\n",
      "Correct\n"
     ]
    }
   ],
   "source": [
    "prompt = f\"\"\"\n",
    "Your task is to determine if the student's solution \\\n",
    "is correct or not.\n",
    "To solve the problem do the following:\n",
    "- First, work out your own solution to the problem. \n",
    "- Then compare your solution to the student's solution \\ \n",
    "and evaluate if the student's solution is correct or not. \n",
    "Don't decide if the student's solution is correct until \n",
    "you have done the problem yourself.\n",
    "\n",
    "Use the following format:\n",
    "Question:\n",
    "```\n",
    "question here\n",
    "```\n",
    "Student's solution:\n",
    "```\n",
    "student's solution here\n",
    "```\n",
    "Actual solution:\n",
    "```\n",
    "steps to work out the solution and your solution here\n",
    "```\n",
    "Is the student's solution the same as actual solution \\\n",
    "just calculated:\n",
    "```\n",
    "yes or no\n",
    "```\n",
    "Student grade:\n",
    "```\n",
    "correct or incorrect\n",
    "```\n",
    "\n",
    "Question:\n",
    "```\n",
    "I'm building a solar power installation and I need help \\\n",
    "working out the financials. \n",
    "- Land costs $100 / square foot\n",
    "- I can buy solar panels for $250 / square foot\n",
    "- I negotiated a contract for maintenance that will cost \\\n",
    "me a flat $100k per year, and an additional $10 / square \\\n",
    "foot\n",
    "What is the total cost for the first year of operations \\\n",
    "as a function of the number of square feet.\n",
    "``` \n",
    "Student's solution:\n",
    "```\n",
    "Let x be the size of the installation in square feet.\n",
    "Costs:\n",
    "1. Land cost: 100x\n",
    "2. Solar panel cost: 250x\n",
    "3. Maintenance cost: 100,000 + 100x\n",
    "Total cost: 100x + 250x + 100,000 + 100x = 450x + 100,000\n",
    "```\n",
    "Actual solution:\n",
    "\"\"\"\n",
    "response = get_completion(prompt)\n",
    "print(response)\n",
    "\n",
    "# The answer is still incorrect, which is inconsistent from what the course result shows. "
   ]
  },
  {
   "cell_type": "markdown",
   "metadata": {},
   "source": [
    "### Model Limitation\n",
    "- Hallucinations: fabricated ideas"
   ]
  },
  {
   "cell_type": "code",
   "execution_count": 14,
   "id": "bd63aeec",
   "metadata": {},
   "outputs": [
    {
     "name": "stdout",
     "output_type": "stream",
     "text": [
      "1. The AeroGlide UltraSlim Smart Toothbrush by Boie is a technologically advanced toothbrush designed to provide a superior cleaning experience. It features ultra-soft bristles that are gentle on gums while effectively removing plaque and debris from teeth.\n",
      "\n",
      "2. This smart toothbrush is equipped with a built-in timer and pressure sensor to ensure proper brushing technique and prevent over-brushing. It also connects to a mobile app via Bluetooth, allowing users to track their brushing habits and receive personalized recommendations for improving oral health.\n",
      "\n",
      "3. With its sleek and slim design, the AeroGlide UltraSlim Smart Toothbrush is not only effective but also aesthetically pleasing. It is made from durable and eco-friendly materials, making it a sustainable choice for oral care.\n"
     ]
    }
   ],
   "source": [
    "prompt = f\"\"\"\n",
    "Tell me about AeroGlide UltraSlim Smart Toothbrush by Boie, by three sentences:\n",
    "1...\n",
    "2...\n",
    "3...\n",
    "\"\"\"\n",
    "response = get_completion(prompt)\n",
    "print(response)"
   ]
  }
 ],
 "metadata": {
  "kernelspec": {
   "display_name": "Python 3 (ipykernel)",
   "language": "python",
   "name": "python3"
  },
  "language_info": {
   "codemirror_mode": {
    "name": "ipython",
    "version": 3
   },
   "file_extension": ".py",
   "mimetype": "text/x-python",
   "name": "python",
   "nbconvert_exporter": "python",
   "pygments_lexer": "ipython3",
   "version": "3.9.6"
  }
 },
 "nbformat": 4,
 "nbformat_minor": 5
}
